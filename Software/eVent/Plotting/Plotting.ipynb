{
 "cells": [
  {
   "cell_type": "code",
   "execution_count": 1,
   "metadata": {},
   "outputs": [],
   "source": [
    "import matplotlib.pyplot as plt\n",
    "from datetime import timedelta\n",
    "from matplotlib.dates import DateFormatter\n",
    "import matplotlib.dates as mdates\n",
    "import numpy as np\n",
    "from datetime import datetime\n",
    "import time\n",
    "import csv    #avg = 50\n",
    "from cycler import cycler\n",
    "from collections import defaultdict\n",
    "from shutil import copyfile\n",
    "from matplotlib.animation import FuncAnimation\n",
    "import matplotlib\n",
    "import datetime\n",
    "\n",
    "%matplotlib qt\n",
    "import matplotlib.pyplot as plt\n"
   ]
  },
  {
   "cell_type": "code",
   "execution_count": 2,
   "metadata": {},
   "outputs": [],
   "source": [
    "def import_data(name):\n",
    "    #import data from csv file  \n",
    "    #my_data = np.genfromtxt(name+'.csv', delimiter=',', skip_header=1)\n",
    "\n",
    "    copyfile(name+'.csv', name+'_jupyterCOPY.csv') #make a working copy\n",
    "    i=0\n",
    "    \n",
    "    output_titles = []\n",
    "    output_data = []\n",
    "\n",
    "    with open(name+'_jupyterCOPY.csv', 'rt') as csvfile:\n",
    "        fileInput = csv.reader(csvfile, delimiter=',')\n",
    "        next(fileInput, None)\n",
    "        for row in fileInput:\n",
    "            for column in row:\n",
    "                output_titles.append(column.rsplit(':', 1)[0])\n",
    "                #variables have to be defined globally\n",
    "                #brake.append(float(row[0].rsplit(':', 1)[1]))\n",
    "            break\n",
    "        \n",
    "        output_data_temp = []\n",
    "        for row in fileInput:\n",
    "            temp_row = []\n",
    "            for column in row:\n",
    "                temp_row.append(column.rsplit(':', 1)[1])\n",
    "            output_data_temp.append(temp_row)\n",
    "\n",
    "        column_num = len(output_data_temp[0])\n",
    "        for i in range (column_num):\n",
    "            temp_column = []\n",
    "            for row in output_data_temp:\n",
    "                temp_column.append(row[i])\n",
    "            output_data.append(temp_column)\n",
    "            \n",
    " #       for row in fileInput:\n",
    " #           temporary_row = [];\n",
    " #           for column in row:\n",
    " #               temporary_row.append(column.rsplit(':', 1)[1])\n",
    " #           output_data.append(temporary_row)\n",
    "    return [output_titles, output_data]"
   ]
  },
  {
   "cell_type": "code",
   "execution_count": 3,
   "metadata": {
    "scrolled": true
   },
   "outputs": [],
   "source": [
    "def plot_over_first_row(output_titles, output_data, fig):       \n",
    "\n",
    "    #hole_speed_avg = movingaverage(hole_speed,avg)\n",
    "    #t_avg = t[avg-1:]    \n",
    "    t_axis = fig.add_subplot(111);\n",
    "    t_axis.set_xlabel(output_titles[0])\n",
    "    colors=plt.cm.rainbow(np.linspace(0,1,len(output_titles)))\n",
    "\n",
    "    \n",
    "    i = 0;\n",
    "    for element_title, element_data in zip(output_titles, output_data):\n",
    "        if(i == 0):\n",
    "            ;\n",
    "        else:\n",
    "            ax_temp = t_axis.twinx()\n",
    "            ax_temp.set_ylabel(element_title) \n",
    "            ax_temp.plot([float(i) for i in output_data[0]], [float(i) for i in element_data], color = colors[i],  linewidth = 1, label=element_title)\n",
    "            ax_temp.tick_params(axis='y',direction=\"out\",labelcolor = colors[i], grid_color =colors[i], grid_alpha=0, pad = (i-1)*80)\n",
    "            plt.tight_layout()\n",
    "        i = i + 1\n",
    "    \n",
    "    #plt.show()\n",
    "\n",
    "    "
   ]
  },
  {
   "cell_type": "code",
   "execution_count": 4,
   "metadata": {},
   "outputs": [],
   "source": [
    "def plot_over_datetime(output_titles, output_data, datetime_format,fig):       \n",
    "\n",
    "    #hole_speed_avg = movingaverage(hole_speed,avg)\n",
    "    #t_avg = t[avg-1:]    \n",
    "    t_axis = fig.add_subplot(111);\n",
    "    t_axis.set_xlabel(output_titles[0])\n",
    "    colors=plt.cm.rainbow(np.linspace(0,1,len(output_titles)))\n",
    "    for element in output_data[0]: \n",
    "        element = matplotlib.dates.date2num(datetime.datetime.strptime(element,datetime_format))\n",
    "    \n",
    "    i = 0;\n",
    "    for element_title, element_data in zip(output_titles, output_data):\n",
    "        if(i == 0):\n",
    "            ;\n",
    "        else:\n",
    "            ax_temp = t_axis.twinx()\n",
    "            ax_temp.set_ylabel(element_title) \n",
    "            ax_temp.plot_date(output_data[0], [float(i) for i in element_data], color = colors[i],  linewidth = 1, label=element_title)\n",
    "            ax_temp.tick_params(axis='y',direction=\"out\",labelcolor = colors[i], grid_color =colors[i], grid_alpha=0, pad = (i-1)*80)\n",
    "            plt.tight_layout()\n",
    "        i = i + 1\n",
    "    \n",
    "    #plt.show()"
   ]
  },
  {
   "cell_type": "code",
   "execution_count": 7,
   "metadata": {
    "scrolled": false
   },
   "outputs": [],
   "source": [
    "def plotFile(i,filename, fig):\n",
    "    [titles, data] = import_data(filename)\n",
    "    plt.clf()\n",
    "    plot_over_first_row(titles, data, fig)\n",
    "\n",
    "## just for testing\n",
    "#fig = plt.figure()\n",
    "#ani = FuncAnimation(plt.gcf(), livePlotFile,fargs=(\"test\", fig), interval=1000)\n"
   ]
  },
  {
   "cell_type": "code",
   "execution_count": 6,
   "metadata": {},
   "outputs": [],
   "source": [
    "def plotFileOverTime(i,filename, datetime_format, fig):\n",
    "    [titles, data] = import_data(filename)\n",
    "    plt.clf()\n",
    "    plot_over_datetime(titles, data, datetime_format, fig)"
   ]
  },
  {
   "cell_type": "code",
   "execution_count": null,
   "metadata": {},
   "outputs": [],
   "source": []
  }
 ],
 "metadata": {
  "anaconda-cloud": {},
  "kernelspec": {
   "display_name": "Python 3",
   "language": "python",
   "name": "python3"
  },
  "language_info": {
   "codemirror_mode": {
    "name": "ipython",
    "version": 3
   },
   "file_extension": ".py",
   "mimetype": "text/x-python",
   "name": "python",
   "nbconvert_exporter": "python",
   "pygments_lexer": "ipython3",
   "version": "3.7.4"
  }
 },
 "nbformat": 4,
 "nbformat_minor": 2
}
